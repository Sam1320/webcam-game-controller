{
 "cells": [
  {
   "cell_type": "code",
   "execution_count": 19,
   "id": "5d7805f7",
   "metadata": {},
   "outputs": [],
   "source": [
    "import sys  \n",
    "sys.path.insert(0, '/home/sam/Code/motorai_challenge/')\n",
    "\n",
    "import os\n",
    "import torch\n",
    "import torchvision.transforms as transforms\n",
    "import cv2\n",
    "import numpy as np\n",
    "\n",
    "\n",
    "\n",
    "import env\n",
    "from train import DQN\n",
    "from utils import preprocessing"
   ]
  },
  {
   "cell_type": "code",
   "execution_count": 20,
   "id": "69225f86",
   "metadata": {},
   "outputs": [],
   "source": [
    "model = DQN()\n",
    "model.load_state_dict(torch.load(os.path.join(env.models_path, 'cnn_v1.pt')))\n",
    "transform = transforms.Normalize([0.5], [0.5])"
   ]
  },
  {
   "cell_type": "code",
   "execution_count": 24,
   "id": "9dd80167",
   "metadata": {},
   "outputs": [
    {
     "name": "stderr",
     "output_type": "stream",
     "text": [
      "[ WARN:0] global /tmp/pip-req-build-kv0l0wqx/opencv/modules/videoio/src/cap_v4l.cpp (890) open VIDEOIO(V4L2:/dev/video0): can't open camera by index\n"
     ]
    }
   ],
   "source": [
    "cap = cv2.VideoCapture(0)\n",
    "width = int(cap.get(cv2.CAP_PROP_FRAME_WIDTH))\n",
    "height = int(cap.get(cv2.CAP_PROP_FRAME_HEIGHT))\n",
    "\n",
    "while cap.isOpened(): \n",
    "    ret, frame = cap.read()\n",
    "    im = np.array(frame)\n",
    "    im = cv2.cvtColor(im, cv2.COLOR_BGR2GRAY)\n",
    "    im_processed = preprocessing.process_image(im)\n",
    "    im_transposed = im_processed.transpose(2,0,1)\n",
    "    im_unsqueezed = np.expand_dims(im_transposed, axis=2)\n",
    "    im_normalized = transform(im_unsqueezed)\n",
    "    model_output = model(im_normalized)\n",
    "    prediction = torch.max(model_output.data)\n",
    "    print(prediction)\n",
    "    input()\n",
    "    \n",
    "    \n",
    "#     input_tensor = tf.convert_to_tensor(np.expand_dims(image_np, 0), dtype=tf.float32)\n",
    "#     detections = detect_fn(input_tensor)\n",
    "    \n",
    "#     num_detections = int(detections.pop('num_detections'))\n",
    "#     detections = {key: value[0, :num_detections].numpy()\n",
    "#                   for key, value in detections.items()}\n",
    "#     detections['num_detections'] = num_detections\n",
    "\n",
    "#     # detection_classes should be ints.\n",
    "#     detections['detection_classes'] = detections['detection_classes'].astype(np.int64)\n",
    "\n",
    "#     label_id_offset = 1\n",
    "#     image_np_with_detections = image_np.copy()\n",
    "\n",
    "#     viz_utils.visualize_boxes_and_labels_on_image_array(\n",
    "#                 image_np_with_detections,\n",
    "#                 detections['detection_boxes'],\n",
    "#                 detections['detection_classes']+label_id_offset,\n",
    "#                 detections['detection_scores'],\n",
    "#                 category_index,\n",
    "#                 use_normalized_coordinates=True,\n",
    "#                 max_boxes_to_draw=5,\n",
    "#                 min_score_thresh=.8,\n",
    "#                 agnostic_mode=False)\n",
    "\n",
    "#     cv2.imshow('object detection',  cv2.resize(image_np_with_detections, (800, 600)))\n",
    "    cv2.imshow('hi sam', image_np)\n",
    "    \n",
    "    if cv2.waitKey(10) & 0xFF == ord('q'):\n",
    "        cap.release()\n",
    "        cv2.destroyAllWindows()\n",
    "        break"
   ]
  },
  {
   "cell_type": "code",
   "execution_count": null,
   "id": "675174dc",
   "metadata": {},
   "outputs": [],
   "source": [
    "    im = cv2.cvtColor(im, cv2.COLOR_BGR2GRAY)\n",
    "    im_processed = preprocessing.process_image(im)\n",
    "    im_transposed = im_processed.transpose(2,0,1)\n",
    "    im_unsqueezed = np.expand_dims(im_transposed, axis=2)\n",
    "    im_normalized = transform(im_unsqueezed)\n",
    "    model_output = model(im_normalized)\n",
    "    prediction = torch.max(model_output.data)"
   ]
  }
 ],
 "metadata": {
  "kernelspec": {
   "display_name": "Python 3 (ipykernel)",
   "language": "python",
   "name": "python3"
  },
  "language_info": {
   "codemirror_mode": {
    "name": "ipython",
    "version": 3
   },
   "file_extension": ".py",
   "mimetype": "text/x-python",
   "name": "python",
   "nbconvert_exporter": "python",
   "pygments_lexer": "ipython3",
   "version": "3.9.7"
  }
 },
 "nbformat": 4,
 "nbformat_minor": 5
}
